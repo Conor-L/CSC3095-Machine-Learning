{
  "nbformat": 4,
  "nbformat_minor": 0,
  "metadata": {
    "colab": {
      "name": "Medical Uses of Machine Learning.ipynb",
      "provenance": [],
      "collapsed_sections": [],
      "authorship_tag": "ABX9TyOrncqU7evUQMduDV8B4M5z",
      "include_colab_link": true
    },
    "kernelspec": {
      "name": "python3",
      "display_name": "Python 3"
    },
    "accelerator": "GPU"
  },
  "cells": [
    {
      "cell_type": "markdown",
      "metadata": {
        "id": "view-in-github",
        "colab_type": "text"
      },
      "source": [
        "<a href=\"https://colab.research.google.com/github/Conor-L/CSC3095-Machine-Learning/blob/master/Medical_Uses_of_Machine_Learning.ipynb\" target=\"_parent\"><img src=\"https://colab.research.google.com/assets/colab-badge.svg\" alt=\"Open In Colab\"/></a>"
      ]
    },
    {
      "cell_type": "markdown",
      "metadata": {
        "id": "P2VJOcQQaVge"
      },
      "source": [
        "# Machine Learning with a Retinal Dataset provided by Kaggle User paultimothymooney"
      ]
    },
    {
      "cell_type": "markdown",
      "metadata": {
        "id": "a74O3Z3GaicN"
      },
      "source": [
        "Import needed modules"
      ]
    },
    {
      "cell_type": "code",
      "metadata": {
        "id": "ozxEduoFaUO_",
        "colab": {
          "base_uri": "https://localhost:8080/",
          "height": 35
        },
        "outputId": "3773ddbd-cde9-4aeb-e1a6-ea0559b61a27"
      },
      "source": [
        "# Import needed modules\n",
        "# ---------------------\n",
        "\n",
        "from __future__ import absolute_import, division, print_function, unicode_literals\n",
        "\n",
        "# Set TensorFlow version to 2.x\n",
        "%tensorflow_version 2.x\n",
        "\n",
        "#Tensorflow and Keras\n",
        "import tensorflow as tf\n",
        "from tensorflow import keras\n",
        "from tensorflow.keras.models import Sequential\n",
        "from tensorflow.keras.layers import Conv2D, MaxPooling2D, Flatten, Dense, Softmax\n",
        "from tensorflow.keras.losses import BinaryCrossentropy\n",
        "\n",
        "# Helper Libraries\n",
        "from keras_preprocessing.image import *\n",
        "import os\n",
        "import numpy as np\n",
        "import matplotlib.pyplot as plt\n",
        "from sklearn.model_selection import train_test_split, KFold\n",
        "\n",
        "# Colab library needed for uploading files to this notebook\n",
        "from google.colab import files\n",
        "\n",
        "# Check the version of TensorFlow\n",
        "print(tf.__version__)\n",
        "\n",
        "# Install the Kaggle API\n",
        "!pip install -q kaggle"
      ],
      "execution_count": null,
      "outputs": [
        {
          "output_type": "stream",
          "text": [
            "2.2.0-rc4\n"
          ],
          "name": "stdout"
        }
      ]
    },
    {
      "cell_type": "markdown",
      "metadata": {
        "id": "CQTqGmQpbj5r"
      },
      "source": [
        "Handle the API Token needed for retrieving dataset from Kaggle"
      ]
    },
    {
      "cell_type": "code",
      "metadata": {
        "id": "tIlcfM5Rbqjg",
        "colab": {
          "resources": {
            "http://localhost:8080/nbextensions/google.colab/files.js": {
              "data": "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",
              "ok": true,
              "headers": [
                [
                  "content-type",
                  "application/javascript"
                ]
              ],
              "status": 200,
              "status_text": "OK"
            }
          },
          "base_uri": "https://localhost:8080/",
          "height": 129
        },
        "outputId": "4306f0d5-dc95-4852-82a4-bf98b89261e2"
      },
      "source": [
        "# Handle the API Token needed for retrieving dataset from Kaggle\n",
        "# ---------------------\n",
        "\n",
        "# Go to Kaggle > My Account > Create API Token > Upload here for access to dataset API\n",
        "kaggle_api_token = files.upload()\n",
        "\n",
        "# Create directory .kaggle\n",
        "!mkdir /root/.kaggle\n",
        "\n",
        "# Move the Kaggle API token to the newly created directory\n",
        "!mv kaggle.json /root/.kaggle\n",
        "\n",
        "# Ensure that kaggle.json is inside the .kaggle directory otherwise dataset download will not proceed\n",
        "%cd /root/.kaggle\n",
        "!ls -a\n",
        "\n",
        "# Change permissons of the kaggle.json to secure its contents\n",
        "!chmod 600 /root/.kaggle/kaggle.json\n",
        "\n",
        "# Navigate back to /content/ where the dataset will be downloaded to\n",
        "%cd /content/"
      ],
      "execution_count": null,
      "outputs": [
        {
          "output_type": "display_data",
          "data": {
            "text/html": [
              "\n",
              "     <input type=\"file\" id=\"files-204bc656-d6aa-4cb1-b54c-920e68f1e007\" name=\"files[]\" multiple disabled />\n",
              "     <output id=\"result-204bc656-d6aa-4cb1-b54c-920e68f1e007\">\n",
              "      Upload widget is only available when the cell has been executed in the\n",
              "      current browser session. Please rerun this cell to enable.\n",
              "      </output>\n",
              "      <script src=\"/nbextensions/google.colab/files.js\"></script> "
            ],
            "text/plain": [
              "<IPython.core.display.HTML object>"
            ]
          },
          "metadata": {
            "tags": []
          }
        },
        {
          "output_type": "stream",
          "text": [
            "Saving kaggle.json to kaggle.json\n",
            "/root/.kaggle\n",
            ".  ..  kaggle.json\n",
            "/content\n"
          ],
          "name": "stdout"
        }
      ]
    },
    {
      "cell_type": "markdown",
      "metadata": {
        "id": "bLutjDGYcVmy"
      },
      "source": [
        "Handle the download of the dataset from Kaggle"
      ]
    },
    {
      "cell_type": "code",
      "metadata": {
        "id": "3MTjyXxScZkg",
        "colab": {
          "base_uri": "https://localhost:8080/",
          "height": 119
        },
        "outputId": "c5787a69-0bdf-4a1c-bd0e-20337913c7f0"
      },
      "source": [
        "# Handle the download of the dataset from Kaggle\n",
        "# ---------------------\n",
        "\n",
        "# Download the dataset from Kaggle\n",
        "!kaggle datasets download paultimothymooney/kermany2018\n",
        "\n",
        "# Extract the dataset (quietly)\n",
        "!unzip -qq kermany2018.zip\n",
        "\n",
        "# Display the /content/ folder.\n",
        "!ls\n",
        "\n",
        "# Navigate to /content/'OCT2017 '/\n",
        "%cd /content/'OCT2017 '/\n",
        "\n",
        "# Check that train, val and test are all contained within the directory\n",
        "!ls"
      ],
      "execution_count": null,
      "outputs": [
        {
          "output_type": "stream",
          "text": [
            "Downloading kermany2018.zip to /content\n",
            "100% 10.8G/10.8G [04:23<00:00, 61.6MB/s]\n",
            "100% 10.8G/10.8G [04:23<00:00, 44.2MB/s]\n",
            " kermany2018.zip   oct2017  'OCT2017 '\t sample_data\n",
            "/content/OCT2017 \n",
            "test  train  val\n"
          ],
          "name": "stdout"
        }
      ]
    },
    {
      "cell_type": "markdown",
      "metadata": {
        "id": "rCxPkP37dp__"
      },
      "source": [
        "Create Navigational Variables to the dataset directories"
      ]
    },
    {
      "cell_type": "code",
      "metadata": {
        "id": "TASQ7rscdvsv",
        "colab": {
          "base_uri": "https://localhost:8080/",
          "height": 431
        },
        "outputId": "aabf54b9-e331-4705-cbfa-3a4f6aa6e06e"
      },
      "source": [
        "# Create Navigational Variables to the dataset directories\n",
        "# ---------------------\n",
        "\n",
        "PATH = '/content/OCT2017 /train/'\n",
        "total_directory = PATH\n",
        "\n",
        "total_cnv_directory = os.path.join(total_directory, 'CNV')\n",
        "total_dme_directory = os.path.join(total_directory, 'DME')\n",
        "total_drusen_directory = os.path.join(total_directory, 'DRUSEN')\n",
        "total_normal_directory = os.path.join(total_directory, 'NORMAL')\n",
        "\n",
        "cnv_total_size = len(os.listdir(total_cnv_directory))\n",
        "dme_total_size = len(os.listdir(total_dme_directory))\n",
        "drusen_total_size = len(os.listdir(total_drusen_directory))\n",
        "normal_total_size = len(os.listdir(total_normal_directory))\n",
        "\n",
        "print('\\nNumber of CNV Images', cnv_total_size)\n",
        "print('Number of DME Images', dme_total_size)\n",
        "print('Number of DRUSEN Images', drusen_total_size)\n",
        "print('Number of NORMAL Images', normal_total_size)\n",
        "\n",
        "total_directory_size = cnv_total_size + dme_total_size + drusen_total_size + normal_total_size\n",
        "print('\\nTotal Directory Size: ', total_directory_size)\n",
        "\n",
        "%cd '/content/OCT2017 /train/'\n",
        "\n",
        "# Draw a bar chart with the image count\n",
        "x_axis = [\"NORMAL\", \"CNV\", \"DME\", \"DRUSEN\"]\n",
        "x_ticks = np.arange(len(x_axis))\n",
        "count = [normal_total_size, cnv_total_size, dme_total_size, drusen_total_size]\n",
        "plt.bar(x_ticks, count, color=\"red\")\n",
        "plt.xlabel(\"Labels\")\n",
        "plt.ylabel(\"Image Count\")\n",
        "plt.title(\"Number of Images\")\n",
        "plt.xticks(x_ticks, x_axis)\n",
        "\n",
        "plt.show()"
      ],
      "execution_count": null,
      "outputs": [
        {
          "output_type": "stream",
          "text": [
            "\n",
            "Number of CNV Images 37205\n",
            "Number of DME Images 11348\n",
            "Number of DRUSEN Images 8616\n",
            "Number of NORMAL Images 26315\n",
            "\n",
            "Total Directory Size:  83484\n",
            "/content/OCT2017 /train\n"
          ],
          "name": "stdout"
        },
        {
          "output_type": "display_data",
          "data": {
            "image/png": "[encoded data removed]",
            "text/plain": [
              "<Figure size 432x288 with 1 Axes>"
            ]
          },
          "metadata": {
            "tags": [],
            "needs_background": "light"
          }
        }
      ]
    },
    {
      "cell_type": "markdown",
      "metadata": {
        "id": "7XBkzqFWgk1G"
      },
      "source": [
        "Data Preprocessing"
      ]
    },
    {
      "cell_type": "code",
      "metadata": {
        "id": "orU2c2mlgkbV",
        "colab": {
          "base_uri": "https://localhost:8080/",
          "height": 329
        },
        "outputId": "966a35c5-e641-45eb-d962-2de1cbced048"
      },
      "source": [
        "# Data Preprocessing\n",
        "# ---------------------\n",
        "\n",
        "batch_size = 128\n",
        "epochs = 15\n",
        "\n",
        "image_dataset = ImageDataGenerator(rescale=1./255, validation_split=0.20)\n",
        "\n",
        "test_dataset = ImageDataGenerator(rescale=1./255)\n",
        "\n",
        "train_data = image_dataset.flow_from_directory(batch_size=batch_size, \n",
        "                                               directory=total_directory,\n",
        "                                               target_size=(256, 256),\n",
        "                                               class_mode='categorical',\n",
        "                                               shuffle=True,\n",
        "                                               color_mode='grayscale',\n",
        "                                               subset='training')\n",
        "\n",
        "val_data = image_dataset.flow_from_directory(batch_size=batch_size,\n",
        "                                             directory=total_directory,\n",
        "                                             target_size=(256, 256),\n",
        "                                             class_mode='categorical',\n",
        "                                             shuffle=True,\n",
        "                                             color_mode='grayscale',\n",
        "                                             subset='validation')\n"
      ],
      "execution_count": null,
      "outputs": [
        {
          "output_type": "stream",
          "text": [
            "Found 66788 images belonging to 4 classes.\n",
            "Found 16696 images belonging to 4 classes.\n"
          ],
          "name": "stdout"
        },
        {
          "output_type": "display_data",
          "data": {
            "image/png": "[encoded data removed]",
            "text/plain": [
              "<Figure size 432x288 with 1 Axes>"
            ]
          },
          "metadata": {
            "tags": [],
            "needs_background": "light"
          }
        }
      ]
    },
    {
      "cell_type": "markdown",
      "metadata": {
        "id": "tiySEPBihiOQ"
      },
      "source": [
        "Model Creation"
      ]
    },
    {
      "cell_type": "code",
      "metadata": {
        "id": "wUXIshwlhkGy",
        "cellView": "both",
        "colab": {
          "base_uri": "https://localhost:8080/",
          "height": 663
        },
        "outputId": "a7e0160a-ba68-4155-cbd7-61aad77f1ed3"
      },
      "source": [
        "# Model Creation\n",
        "# ---------------------\n",
        "\n",
        "# Model created and adapted with help from James Le: https://towardsdatascience.com/the-4-convolutional-neural-network-models-that-can-classify-your-fashion-images-9fe7f3e5399d to  ensure best accuracy output\n",
        "\n",
        "model = Sequential([\n",
        "    Conv2D(32, (3, 3), activation='relu', input_shape=(256, 256, 1)),\n",
        "    MaxPooling2D((2,2)),\n",
        "    keras.layers.Dropout(0.25),\n",
        "\n",
        "    Conv2D(64, (3, 3), activation='relu'),\n",
        "    MaxPooling2D((2,2)),\n",
        "    keras.layers.Dropout(0.25),\n",
        "\n",
        "    Conv2D(128, (3, 3), activation='relu'),\n",
        "    MaxPooling2D((2,2)),\n",
        "    keras.layers.Dropout(0.25),\n",
        "\n",
        "    Conv2D(256, (3, 3), activation='relu'),\n",
        "    keras.layers.Dropout(0.25),\n",
        "\n",
        "    Flatten(),\n",
        "\n",
        "    Dense(256, activation='relu'),\n",
        "    keras.layers.Dropout(0.25),\n",
        "    Dense(4, activation='softmax')\n",
        "])\n",
        "\n",
        "model.compile(optimizer=keras.optimizers.Adam(),\n",
        "              loss='categorical_crossentropy',\n",
        "              metrics=['accuracy'])\n",
        "\n",
        "model.summary()"
      ],
      "execution_count": null,
      "outputs": [
        {
          "output_type": "stream",
          "text": [
            "Model: \"sequential\"\n",
            "_________________________________________________________________\n",
            "Layer (type)                 Output Shape              Param #   \n",
            "=================================================================\n",
            "conv2d (Conv2D)              (None, 254, 254, 32)      320       \n",
            "_________________________________________________________________\n",
            "max_pooling2d (MaxPooling2D) (None, 127, 127, 32)      0         \n",
            "_________________________________________________________________\n",
            "dropout (Dropout)            (None, 127, 127, 32)      0         \n",
            "_________________________________________________________________\n",
            "conv2d_1 (Conv2D)            (None, 125, 125, 64)      18496     \n",
            "_________________________________________________________________\n",
            "max_pooling2d_1 (MaxPooling2 (None, 62, 62, 64)        0         \n",
            "_________________________________________________________________\n",
            "dropout_1 (Dropout)          (None, 62, 62, 64)        0         \n",
            "_________________________________________________________________\n",
            "conv2d_2 (Conv2D)            (None, 60, 60, 128)       73856     \n",
            "_________________________________________________________________\n",
            "max_pooling2d_2 (MaxPooling2 (None, 30, 30, 128)       0         \n",
            "_________________________________________________________________\n",
            "dropout_2 (Dropout)          (None, 30, 30, 128)       0         \n",
            "_________________________________________________________________\n",
            "conv2d_3 (Conv2D)            (None, 28, 28, 256)       295168    \n",
            "_________________________________________________________________\n",
            "dropout_3 (Dropout)          (None, 28, 28, 256)       0         \n",
            "_________________________________________________________________\n",
            "flatten (Flatten)            (None, 200704)            0         \n",
            "_________________________________________________________________\n",
            "dense (Dense)                (None, 256)               51380480  \n",
            "_________________________________________________________________\n",
            "dropout_4 (Dropout)          (None, 256)               0         \n",
            "_________________________________________________________________\n",
            "dense_1 (Dense)              (None, 4)                 1028      \n",
            "=================================================================\n",
            "Total params: 51,769,348\n",
            "Trainable params: 51,769,348\n",
            "Non-trainable params: 0\n",
            "_________________________________________________________________\n"
          ],
          "name": "stdout"
        }
      ]
    },
    {
      "cell_type": "markdown",
      "metadata": {
        "id": "X2OtJrvxFTBg"
      },
      "source": [
        "Training the Model"
      ]
    },
    {
      "cell_type": "code",
      "metadata": {
        "id": "aO-n6CnnFQAQ",
        "colab": {
          "base_uri": "https://localhost:8080/",
          "height": 547
        },
        "outputId": "cee00604-927c-4ba3-d0c9-cd94258c958e"
      },
      "source": [
        "# Training the Model\n",
        "# ---------------------\n",
        "\n",
        "train_model = model.fit(\n",
        "    train_data,\n",
        "    steps_per_epoch=train_data.samples // batch_size,\n",
        "    epochs=epochs,\n",
        "    batch_size=batch_size,\n",
        "    validation_data=val_data,\n",
        "    validation_steps=val_data.samples // batch_size\n",
        ")"
      ],
      "execution_count": null,
      "outputs": [
        {
          "output_type": "stream",
          "text": [
            "Epoch 1/15\n",
            "521/521 [==============================] - 387s 744ms/step - loss: 0.8735 - accuracy: 0.6752 - val_loss: 0.6085 - val_accuracy: 0.7864\n",
            "Epoch 2/15\n",
            "521/521 [==============================] - 360s 691ms/step - loss: 0.5549 - accuracy: 0.7975 - val_loss: 0.5354 - val_accuracy: 0.8176\n",
            "Epoch 3/15\n",
            "521/521 [==============================] - 308s 591ms/step - loss: 0.4549 - accuracy: 0.8350 - val_loss: 0.5065 - val_accuracy: 0.8261\n",
            "Epoch 4/15\n",
            "521/521 [==============================] - 304s 584ms/step - loss: 0.3893 - accuracy: 0.8600 - val_loss: 0.3911 - val_accuracy: 0.8651\n",
            "Epoch 5/15\n",
            "521/521 [==============================] - 300s 575ms/step - loss: 0.3272 - accuracy: 0.8830 - val_loss: 0.3570 - val_accuracy: 0.8749\n",
            "Epoch 6/15\n",
            "521/521 [==============================] - 300s 576ms/step - loss: 0.2708 - accuracy: 0.9061 - val_loss: 0.3327 - val_accuracy: 0.8906\n",
            "Epoch 7/15\n",
            "521/521 [==============================] - 299s 573ms/step - loss: 0.2178 - accuracy: 0.9253 - val_loss: 0.3045 - val_accuracy: 0.8951\n",
            "Epoch 8/15\n",
            "521/521 [==============================] - 298s 572ms/step - loss: 0.1828 - accuracy: 0.9371 - val_loss: 0.3508 - val_accuracy: 0.8912\n",
            "Epoch 9/15\n",
            "521/521 [==============================] - 299s 574ms/step - loss: 0.1558 - accuracy: 0.9464 - val_loss: 0.2968 - val_accuracy: 0.9071\n",
            "Epoch 10/15\n",
            "521/521 [==============================] - 298s 572ms/step - loss: 0.1343 - accuracy: 0.9526 - val_loss: 0.3361 - val_accuracy: 0.9064\n",
            "Epoch 11/15\n",
            "521/521 [==============================] - 297s 571ms/step - loss: 0.1179 - accuracy: 0.9587 - val_loss: 0.3432 - val_accuracy: 0.9061\n",
            "Epoch 12/15\n",
            "521/521 [==============================] - 298s 573ms/step - loss: 0.1049 - accuracy: 0.9624 - val_loss: 0.3681 - val_accuracy: 0.8994\n",
            "Epoch 13/15\n",
            "521/521 [==============================] - 298s 572ms/step - loss: 0.0936 - accuracy: 0.9671 - val_loss: 0.3987 - val_accuracy: 0.9013\n",
            "Epoch 14/15\n",
            "521/521 [==============================] - 298s 572ms/step - loss: 0.0827 - accuracy: 0.9706 - val_loss: 0.3511 - val_accuracy: 0.9063\n",
            "Epoch 15/15\n",
            "521/521 [==============================] - 298s 573ms/step - loss: 0.0782 - accuracy: 0.9722 - val_loss: 0.4148 - val_accuracy: 0.9112\n"
          ],
          "name": "stdout"
        }
      ]
    },
    {
      "cell_type": "markdown",
      "metadata": {
        "id": "o65__2OuG4dY"
      },
      "source": [
        "Pre-Process Test Data"
      ]
    },
    {
      "cell_type": "code",
      "metadata": {
        "id": "KUQKkiYyA0sr",
        "colab": {
          "base_uri": "https://localhost:8080/",
          "height": 34
        },
        "outputId": "686fb0a0-e895-4158-b535-28eb447ec5c8"
      },
      "source": [
        "# Pre-Process Test Data\n",
        "# ---------------------\n",
        "\n",
        "itr = test_data = test_dataset.flow_from_directory(batch_size=968,\n",
        "                                             directory='/content/OCT2017 /test',\n",
        "                                             target_size=(256, 256),\n",
        "                                             class_mode='categorical',\n",
        "                                             color_mode='grayscale',\n",
        "                                             shuffle=True)\n",
        "\n",
        "X_test, y_test = itr.next()"
      ],
      "execution_count": null,
      "outputs": [
        {
          "output_type": "stream",
          "text": [
            "Found 968 images belonging to 4 classes.\n"
          ],
          "name": "stdout"
        }
      ]
    },
    {
      "cell_type": "markdown",
      "metadata": {
        "id": "tQyMzsyHHCey"
      },
      "source": [
        "Create a Matrix for the results"
      ]
    },
    {
      "cell_type": "code",
      "metadata": {
        "id": "pFSrDndX9vil",
        "colab": {
          "base_uri": "https://localhost:8080/",
          "height": 85
        },
        "outputId": "5c1bcbb1-76e2-4662-a012-b8e725a57c75"
      },
      "source": [
        "# Import needed modules\n",
        "# ---------------------\n",
        "\n",
        "w, h = 4, 4;\n",
        "Matrix = [[0 for x in range(w)] for y in range(h)] \n",
        "\n",
        "trueResult = np.where(y_test == 1)\n",
        "correctPos = list(zip(trueResult[0], trueResult[1]))\n",
        "\n",
        "testPredictions = model.predict(X_test[:len(X_test)])\n",
        "\n",
        "i = 0\n",
        "for element in X_test:\n",
        "  currentPrediction = np.amax(testPredictions[i])\n",
        "  labelArrPos = np.where(testPredictions[i] == currentPrediction)\n",
        "  Matrix[correctPos[i][1]][labelArrPos[0][0]] += 1\n",
        "  i = i + 1\n",
        "\n",
        "print(Matrix[0], \"\\n\", Matrix[1], \"\\n\", Matrix[2], \"\\n\", Matrix[3])"
      ],
      "execution_count": null,
      "outputs": [
        {
          "output_type": "stream",
          "text": [
            "[241, 1, 0, 0] \n",
            " [10, 225, 0, 7] \n",
            " [7, 0, 234, 1] \n",
            " [0, 0, 0, 242]\n"
          ],
          "name": "stdout"
        }
      ]
    },
    {
      "cell_type": "markdown",
      "metadata": {
        "id": "wtpdGxaPHQJB"
      },
      "source": [
        "Draw the Matrix to the screen"
      ]
    },
    {
      "cell_type": "code",
      "metadata": {
        "id": "OeqWK-d5ji2V",
        "colab": {
          "base_uri": "https://localhost:8080/",
          "height": 486
        },
        "outputId": "1216f0d6-21d4-4fa2-928c-c49501a2f6ca"
      },
      "source": [
        "# Draw the Matrix to the screen\n",
        "# ---------------------\n",
        "\n",
        "# With help from https://snakify.org/en/lessons/two_dimensional_lists_arrays/ Lesson 9 Two-Dimensional Arrays - Looping through two Dimensional arrays\n",
        "#   to print the values onto the Result Matrix\n",
        "\n",
        "# Issues resolved with help from https://stackoverflow.com/questions/21712047/matplotlib-imshow-matshow-display-values-on-plot How to print text onto the result matrix\n",
        "\n",
        "plt.figure(figsize=(10, 7))\n",
        "plt.imshow(Matrix, interpolation='nearest', cmap=plt.cm.Reds)\n",
        "plt.title(\"Result Matrix\")\n",
        "plt.colorbar()\n",
        "\n",
        "dataset_classes = [\"NORMAL\", \"CNV\", \"DME\", \"DRUSEN\"]\n",
        "axis_labels = np.arange(len(dataset_classes))\n",
        "\n",
        "plt.xticks(axis_labels, dataset_classes, rotation=45)\n",
        "plt.yticks(axis_labels, dataset_classes)\n",
        "\n",
        "plt.xlabel(\"Predicted Label\")\n",
        "plt.ylabel(\"True Label\")\n",
        "\n",
        "threshold = np.amax(Matrix) / 2\n",
        "\n",
        "for i in range(len(Matrix)):\n",
        "  for j in range(len(Matrix[i])):\n",
        "    plt.text(j, i, Matrix[i][j], horizontalalignment=\"center\", color=\"white\" if Matrix[i][j] > threshold else \"black\")\n",
        "\n",
        "  "
      ],
      "execution_count": null,
      "outputs": [
        {
          "output_type": "display_data",
          "data": {
            "image/png": "[encoded data removed]",
            "text/plain": [
              "<Figure size 720x504 with 2 Axes>"
            ]
          },
          "metadata": {
            "tags": [],
            "needs_background": "light"
          }
        }
      ]
    },
    {
      "cell_type": "code",
      "metadata": {
        "id": "bhfXqZqdxuAv",
        "colab": {
          "base_uri": "https://localhost:8080/",
          "height": 884
        },
        "outputId": "97936cf8-6cbe-4bff-d367-3b341913e62b"
      },
      "source": [
        "#Plot Accuracy against Validation Accuracy\n",
        "plt.figure(figsize=(10, 7))\n",
        "plt.plot(train_model.history['accuracy'])\n",
        "plt.plot(train_model.history['val_accuracy'])\n",
        "\n",
        "plt.xlabel('Epochs')\n",
        "plt.ylabel('Accuracy')\n",
        "\n",
        "plt.legend(['Train', 'Validation'], loc='upper left')\n",
        "\n",
        "#Plot Loss against Validation Loss\n",
        "plt.figure(figsize=(10, 7))\n",
        "plt.plot(train_model.history['loss'])\n",
        "plt.plot(train_model.history['val_loss'])\n",
        "\n",
        "plt.xlabel('Epochs')\n",
        "plt.ylabel('Loss')\n",
        "\n",
        "plt.legend(['Train', 'Validation'], loc='upper right')"
      ],
      "execution_count": null,
      "outputs": [
        {
          "output_type": "execute_result",
          "data": {
            "text/plain": [
              "<matplotlib.legend.Legend at 0x7fe9f37e5dd8>"
            ]
          },
          "metadata": {
            "tags": []
          },
          "execution_count": 61
        },
        {
          "output_type": "display_data",
          "data": {
            "image/png": "[encoded data removed]",
            "text/plain": [
              "<Figure size 720x504 with 1 Axes>"
            ]
          },
          "metadata": {
            "tags": [],
            "needs_background": "light"
          }
        },
        {
          "output_type": "display_data",
          "data": {
            "image/png": "[encoded data removed]",
            "text/plain": [
              "<Figure size 720x504 with 1 Axes>"
            ]
          },
          "metadata": {
            "tags": [],
            "needs_background": "light"
          }
        }
      ]
    }
  ]
}